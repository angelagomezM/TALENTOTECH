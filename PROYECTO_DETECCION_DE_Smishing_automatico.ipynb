{
  "cells": [
    {
      "cell_type": "markdown",
      "metadata": {
        "id": "view-in-github",
        "colab_type": "text"
      },
      "source": [
        "<a href=\"https://colab.research.google.com/github/angelagomezM/TALENTOTECH/blob/main/PROYECTO_DETECCION_DE_Smishing_automatico.ipynb\" target=\"_parent\"><img src=\"https://colab.research.google.com/assets/colab-badge.svg\" alt=\"Open In Colab\"/></a>"
      ]
    },
    {
      "cell_type": "code",
      "execution_count": null,
      "metadata": {
        "colab": {
          "base_uri": "https://localhost:8080/",
          "height": 346,
          "referenced_widgets": [
            "80ed1e52f12a4c27b3d92142f328ca71",
            "04139fcf8754410c86341a8a9267fbef",
            "8b38360bdaff4b17ac55b808267e6179",
            "04d31342809f4f50ba19b6096800ddf2",
            "1b177a88622a4ec0b5be0f57db3ac6c3",
            "a62c7fe884c04296a8a363c33c9b87af",
            "6da90e74d19c4282bfcdcfff559d52f9",
            "ff9b871e1370469794fa6228f4822ce9"
          ]
        },
        "id": "cGQJdfqL5feA",
        "outputId": "bc1c0dea-4cb5-43ec-b46b-c09432c1dac0"
      },
      "outputs": [
        {
          "name": "stdout",
          "output_type": "stream",
          "text": [
            "\u001b[?25l   \u001b[90m━━━━━━━━━━━━━━━━━━━━━━━━━━━━━━━━━━━━━━━━\u001b[0m \u001b[32m0.0/1.6 MB\u001b[0m \u001b[31m?\u001b[0m eta \u001b[36m-:--:--\u001b[0m\r",
            "\u001b[2K   \u001b[91m━━━━━━━━━━━━━━━━━━━━━━━━━━━━━━━━━━━━━━━\u001b[0m\u001b[91m╸\u001b[0m \u001b[32m1.6/1.6 MB\u001b[0m \u001b[31m73.2 MB/s\u001b[0m eta \u001b[36m0:00:01\u001b[0m\r",
            "\u001b[2K   \u001b[90m━━━━━━━━━━━━━━━━━━━━━━━━━━━━━━━━━━━━━━━━\u001b[0m \u001b[32m1.6/1.6 MB\u001b[0m \u001b[31m24.5 MB/s\u001b[0m eta \u001b[36m0:00:00\u001b[0m\n",
            "\u001b[?25hDataset cargado con 5572 mensajes.\n",
            "label\n",
            "0    4825\n",
            "1     747\n",
            "Name: count, dtype: int64\n",
            "Precisión en test: 96.41%\n"
          ]
        },
        {
          "data": {
            "text/markdown": [
              "## 📲 Detector de Smishing Mejorado con Ruta Educativa"
            ],
            "text/plain": [
              "<IPython.core.display.Markdown object>"
            ]
          },
          "metadata": {},
          "output_type": "display_data"
        },
        {
          "data": {
            "application/vnd.jupyter.widget-view+json": {
              "model_id": "80ed1e52f12a4c27b3d92142f328ca71",
              "version_major": 2,
              "version_minor": 0
            },
            "text/plain": [
              "Textarea(value='', description='Mensaje:', layout=Layout(height='100px', width='100%'), placeholder='Escribe a…"
            ]
          },
          "metadata": {},
          "output_type": "display_data"
        },
        {
          "data": {
            "application/vnd.jupyter.widget-view+json": {
              "model_id": "04d31342809f4f50ba19b6096800ddf2",
              "version_major": 2,
              "version_minor": 0
            },
            "text/plain": [
              "Button(button_style='primary', description='Analizar', style=ButtonStyle())"
            ]
          },
          "metadata": {},
          "output_type": "display_data"
        },
        {
          "data": {
            "application/vnd.jupyter.widget-view+json": {
              "model_id": "6da90e74d19c4282bfcdcfff559d52f9",
              "version_major": 2,
              "version_minor": 0
            },
            "text/plain": [
              "Output()"
            ]
          },
          "metadata": {},
          "output_type": "display_data"
        }
      ],
      "source": [
        "# Paso 1: Instalar librerías necesarias\n",
        "!pip install -q ipywidgets\n",
        "\n",
        "# Paso 2: Descargar dataset público y preparar datos\n",
        "import pandas as pd\n",
        "\n",
        "url = \"https://raw.githubusercontent.com/justmarkham/pycon-2016-tutorial/master/data/sms.tsv\"\n",
        "df = pd.read_csv(url, sep='\\t', header=None, names=[\"label\", \"message\"])\n",
        "\n",
        "# Convertir etiquetas 'ham' a 0 y 'spam' a 1\n",
        "df['label'] = df['label'].map({'ham': 0, 'spam': 1})\n",
        "\n",
        "print(f\"Dataset cargado con {len(df)} mensajes.\")\n",
        "print(df['label'].value_counts())\n",
        "\n",
        "# Paso 3: Entrenar modelo de machine learning\n",
        "from sklearn.feature_extraction.text import TfidfVectorizer\n",
        "from sklearn.model_selection import train_test_split\n",
        "from sklearn.linear_model import LogisticRegression\n",
        "\n",
        "vectorizer = TfidfVectorizer()\n",
        "X = vectorizer.fit_transform(df['message'])\n",
        "y = df['label']\n",
        "\n",
        "X_train, X_test, y_train, y_test = train_test_split(X, y, test_size=0.2, random_state=42)\n",
        "\n",
        "modelo = LogisticRegression(max_iter=1000)\n",
        "modelo.fit(X_train, y_train)\n",
        "\n",
        "print(f\"Precisión en test: {modelo.score(X_test, y_test)*100:.2f}%\")\n",
        "\n",
        "# Paso 4: Función mejorada para detectar smishing con reglas y ML\n",
        "import re\n",
        "\n",
        "def detectar_sms_mejorado(texto):\n",
        "    vector = vectorizer.transform([texto])\n",
        "    pred = modelo.predict(vector)[0]\n",
        "\n",
        "    # Detectar URLs sospechosas (simplificado)\n",
        "    url_sospechosa = bool(re.search(r'http[s]?://[^\\s]+', texto))\n",
        "    palabras_peligro = ['bloqueada', 'actualice', 'suspensión', 'urgente', 'verifique', 'premio', 'clave', 'clic', 'reclama', 'evita', 'pago', 'alerta']\n",
        "\n",
        "    # Si modelo dice smishing o si hay url sospechosa + palabra clave\n",
        "    if pred == 1 or (url_sospechosa and any(p in texto.lower() for p in palabras_peligro)):\n",
        "        mensaje = \"⚠️ *Smishing detectado*\"\n",
        "        educacion = \"\"\"\n",
        "📚 **¿Qué hacer?**\n",
        "\n",
        "- ❌ No hagas clic en enlaces sospechosos.\n",
        "- 🔒 No compartas datos personales o bancarios.\n",
        "- 🚫 Bloquea el número y repórtalo a tu operador móvil.\n",
        "- 🛡️ Puedes reportar el mensaje a:\n",
        "   • Policía Nacional: [https://caivirtual.policia.gov.co](https://caivirtual.policia.gov.co)\n",
        "   • MinTIC: [https://www.osi.gov.co](https://www.osi.gov.co)\n",
        "   • Correo: ciberseguridad@mintic.gov.co\n",
        "        \"\"\"\n",
        "        return mensaje + \"\\n\\n\" + educacion\n",
        "    else:\n",
        "        return \"✅ *Mensaje legítimo*\"\n",
        "\n",
        "# Paso 5: Interfaz interactiva para probar mensajes\n",
        "import ipywidgets as widgets\n",
        "from IPython.display import display, Markdown\n",
        "\n",
        "entrada = widgets.Textarea(\n",
        "    placeholder='Escribe aquí el mensaje SMS...',\n",
        "    description='Mensaje:',\n",
        "    layout=widgets.Layout(width='100%', height='100px')\n",
        ")\n",
        "\n",
        "boton = widgets.Button(description=\"Analizar\", button_style='primary')\n",
        "salida = widgets.Output()\n",
        "\n",
        "def cuando_clic(b):\n",
        "    with salida:\n",
        "        salida.clear_output()\n",
        "        resultado = detectar_sms_mejorado(entrada.value)\n",
        "        display(Markdown(\"### Resultado:\\n\" + resultado))\n",
        "\n",
        "boton.on_click(cuando_clic)\n",
        "\n",
        "display(Markdown(\"## 📲 Detector de Smishing Mejorado con Ruta Educativa\"))\n",
        "display(entrada, boton, salida)\n"
      ]
    }
  ],
  "metadata": {
    "colab": {
      "provenance": [],
      "include_colab_link": true
    },
    "kernelspec": {
      "display_name": "Python 3",
      "name": "python3"
    },
    "language_info": {
      "name": "python"
    },
    "widgets": {
      "application/vnd.jupyter.widget-state+json": {
        "04139fcf8754410c86341a8a9267fbef": {
          "model_module": "@jupyter-widgets/base",
          "model_module_version": "1.2.0",
          "model_name": "LayoutModel",
          "state": {
            "_model_module": "@jupyter-widgets/base",
            "_model_module_version": "1.2.0",
            "_model_name": "LayoutModel",
            "_view_count": null,
            "_view_module": "@jupyter-widgets/base",
            "_view_module_version": "1.2.0",
            "_view_name": "LayoutView",
            "align_content": null,
            "align_items": null,
            "align_self": null,
            "border": null,
            "bottom": null,
            "display": null,
            "flex": null,
            "flex_flow": null,
            "grid_area": null,
            "grid_auto_columns": null,
            "grid_auto_flow": null,
            "grid_auto_rows": null,
            "grid_column": null,
            "grid_gap": null,
            "grid_row": null,
            "grid_template_areas": null,
            "grid_template_columns": null,
            "grid_template_rows": null,
            "height": "100px",
            "justify_content": null,
            "justify_items": null,
            "left": null,
            "margin": null,
            "max_height": null,
            "max_width": null,
            "min_height": null,
            "min_width": null,
            "object_fit": null,
            "object_position": null,
            "order": null,
            "overflow": null,
            "overflow_x": null,
            "overflow_y": null,
            "padding": null,
            "right": null,
            "top": null,
            "visibility": null,
            "width": "100%"
          }
        },
        "04d31342809f4f50ba19b6096800ddf2": {
          "model_module": "@jupyter-widgets/controls",
          "model_module_version": "1.5.0",
          "model_name": "ButtonModel",
          "state": {
            "_dom_classes": [],
            "_model_module": "@jupyter-widgets/controls",
            "_model_module_version": "1.5.0",
            "_model_name": "ButtonModel",
            "_view_count": null,
            "_view_module": "@jupyter-widgets/controls",
            "_view_module_version": "1.5.0",
            "_view_name": "ButtonView",
            "button_style": "primary",
            "description": "Analizar",
            "disabled": false,
            "icon": "",
            "layout": "IPY_MODEL_1b177a88622a4ec0b5be0f57db3ac6c3",
            "style": "IPY_MODEL_a62c7fe884c04296a8a363c33c9b87af",
            "tooltip": ""
          }
        },
        "1b177a88622a4ec0b5be0f57db3ac6c3": {
          "model_module": "@jupyter-widgets/base",
          "model_module_version": "1.2.0",
          "model_name": "LayoutModel",
          "state": {
            "_model_module": "@jupyter-widgets/base",
            "_model_module_version": "1.2.0",
            "_model_name": "LayoutModel",
            "_view_count": null,
            "_view_module": "@jupyter-widgets/base",
            "_view_module_version": "1.2.0",
            "_view_name": "LayoutView",
            "align_content": null,
            "align_items": null,
            "align_self": null,
            "border": null,
            "bottom": null,
            "display": null,
            "flex": null,
            "flex_flow": null,
            "grid_area": null,
            "grid_auto_columns": null,
            "grid_auto_flow": null,
            "grid_auto_rows": null,
            "grid_column": null,
            "grid_gap": null,
            "grid_row": null,
            "grid_template_areas": null,
            "grid_template_columns": null,
            "grid_template_rows": null,
            "height": null,
            "justify_content": null,
            "justify_items": null,
            "left": null,
            "margin": null,
            "max_height": null,
            "max_width": null,
            "min_height": null,
            "min_width": null,
            "object_fit": null,
            "object_position": null,
            "order": null,
            "overflow": null,
            "overflow_x": null,
            "overflow_y": null,
            "padding": null,
            "right": null,
            "top": null,
            "visibility": null,
            "width": null
          }
        },
        "6da90e74d19c4282bfcdcfff559d52f9": {
          "model_module": "@jupyter-widgets/output",
          "model_module_version": "1.0.0",
          "model_name": "OutputModel",
          "state": {
            "_dom_classes": [],
            "_model_module": "@jupyter-widgets/output",
            "_model_module_version": "1.0.0",
            "_model_name": "OutputModel",
            "_view_count": null,
            "_view_module": "@jupyter-widgets/output",
            "_view_module_version": "1.0.0",
            "_view_name": "OutputView",
            "layout": "IPY_MODEL_ff9b871e1370469794fa6228f4822ce9",
            "msg_id": "",
            "outputs": []
          }
        },
        "80ed1e52f12a4c27b3d92142f328ca71": {
          "model_module": "@jupyter-widgets/controls",
          "model_module_version": "1.5.0",
          "model_name": "TextareaModel",
          "state": {
            "_dom_classes": [],
            "_model_module": "@jupyter-widgets/controls",
            "_model_module_version": "1.5.0",
            "_model_name": "TextareaModel",
            "_view_count": null,
            "_view_module": "@jupyter-widgets/controls",
            "_view_module_version": "1.5.0",
            "_view_name": "TextareaView",
            "continuous_update": true,
            "description": "Mensaje:",
            "description_tooltip": null,
            "disabled": false,
            "layout": "IPY_MODEL_04139fcf8754410c86341a8a9267fbef",
            "placeholder": "Escribe aquí el mensaje SMS...",
            "rows": null,
            "style": "IPY_MODEL_8b38360bdaff4b17ac55b808267e6179",
            "value": "Hola, mi telefono se descompuso y perdi mis contactos. Puedes enviarme un mensaje a traves de este enlace para que te registre WWW.me/12GeD%tg.COM"
          }
        },
        "8b38360bdaff4b17ac55b808267e6179": {
          "model_module": "@jupyter-widgets/controls",
          "model_module_version": "1.5.0",
          "model_name": "DescriptionStyleModel",
          "state": {
            "_model_module": "@jupyter-widgets/controls",
            "_model_module_version": "1.5.0",
            "_model_name": "DescriptionStyleModel",
            "_view_count": null,
            "_view_module": "@jupyter-widgets/base",
            "_view_module_version": "1.2.0",
            "_view_name": "StyleView",
            "description_width": ""
          }
        },
        "a62c7fe884c04296a8a363c33c9b87af": {
          "model_module": "@jupyter-widgets/controls",
          "model_module_version": "1.5.0",
          "model_name": "ButtonStyleModel",
          "state": {
            "_model_module": "@jupyter-widgets/controls",
            "_model_module_version": "1.5.0",
            "_model_name": "ButtonStyleModel",
            "_view_count": null,
            "_view_module": "@jupyter-widgets/base",
            "_view_module_version": "1.2.0",
            "_view_name": "StyleView",
            "button_color": null,
            "font_weight": ""
          }
        },
        "ff9b871e1370469794fa6228f4822ce9": {
          "model_module": "@jupyter-widgets/base",
          "model_module_version": "1.2.0",
          "model_name": "LayoutModel",
          "state": {
            "_model_module": "@jupyter-widgets/base",
            "_model_module_version": "1.2.0",
            "_model_name": "LayoutModel",
            "_view_count": null,
            "_view_module": "@jupyter-widgets/base",
            "_view_module_version": "1.2.0",
            "_view_name": "LayoutView",
            "align_content": null,
            "align_items": null,
            "align_self": null,
            "border": null,
            "bottom": null,
            "display": null,
            "flex": null,
            "flex_flow": null,
            "grid_area": null,
            "grid_auto_columns": null,
            "grid_auto_flow": null,
            "grid_auto_rows": null,
            "grid_column": null,
            "grid_gap": null,
            "grid_row": null,
            "grid_template_areas": null,
            "grid_template_columns": null,
            "grid_template_rows": null,
            "height": null,
            "justify_content": null,
            "justify_items": null,
            "left": null,
            "margin": null,
            "max_height": null,
            "max_width": null,
            "min_height": null,
            "min_width": null,
            "object_fit": null,
            "object_position": null,
            "order": null,
            "overflow": null,
            "overflow_x": null,
            "overflow_y": null,
            "padding": null,
            "right": null,
            "top": null,
            "visibility": null,
            "width": null
          }
        }
      }
    }
  },
  "nbformat": 4,
  "nbformat_minor": 0
}